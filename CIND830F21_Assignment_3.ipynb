{
  "cells": [
    {
      "cell_type": "markdown",
      "metadata": {
        "id": "view-in-github",
        "colab_type": "text"
      },
      "source": [
        "<a href=\"https://colab.research.google.com/github/Maryam-Dehkordi/Predictive-Analytics-of-Productivity-Prediction-of-Garment-Employees/blob/main/CIND830F21_Assignment_3.ipynb\" target=\"_parent\"><img src=\"https://colab.research.google.com/assets/colab-badge.svg\" alt=\"Open In Colab\"/></a>"
      ]
    },
    {
      "cell_type": "markdown",
      "metadata": {
        "id": "zb9n5Pg2TJKM"
      },
      "source": [
        "## CIND830 - Python Programming for Data Science  \n",
        "### Assignment 3 (10% of the final grade)\n",
        "### Due as per D2L\n"
      ]
    },
    {
      "cell_type": "markdown",
      "metadata": {
        "id": "Oua2yEQZTdq9"
      },
      "source": [
        "*****\n",
        "This is a Jupyter Notebook document that extends a simple formatting syntax for authoring HTML and PDF.\n",
        "Review [this](https://jupyter-notebook.readthedocs.io/en/stable/notebook.html) website for more details on using Jupyter Notebook.\n",
        "\n",
        "Use the JupyterHub server on the Google Cloud Platform, provided by your designated instructor, for this assignment.\n",
        "Ensure using **Python 3.7.6** release then complete the assignment by inserting your Python code wherever seeing the string \"#INSERT YOUR ANSWER HERE.\"\n",
        "\n",
        "When you click the `File` button, from the top navigation bar, then select `Export Notebook As ...`,\n",
        "a document (PDF or HTML format) will be generated that includes\n",
        " both the assignment content and the output of any embedded Python code chunks.\n",
        "\n",
        "Using [these](https://www.ryerson.ca/courses/students/tutorials/assignments/) guidelines,\n",
        "submit **both** the IPYNB and the exported file (PDF or HTML).\n",
        "Failing to submit both files will be subject to mark deduction."
      ]
    },
    {
      "cell_type": "markdown",
      "metadata": {
        "id": "M4wyjuNjHYB6"
      },
      "source": [
        "*****"
      ]
    },
    {
      "cell_type": "markdown",
      "metadata": {
        "id": "voO18EGjWN1_"
      },
      "source": [
        "### Question 1 **[25 pts]**:\n",
        "\n",
        "Write a class **SpecialList** that can hold only strings.\n",
        "\n",
        "**Note. Only Python built-in functions are allowed to be used in this question. Do not use a third-party library for any part of the code. Importing any third-party library will result in marks deduction**\n",
        "    \n",
        "a. Users of the class should be able to instantiate an object of the **SpecialList** class with a list of strings. Name the list as *items*. Ensure you check that the input values are strings and if not throw an error. **(5 Points)**\n",
        "    \n",
        "b. Implement a *sort* method as a member of the **SpecialList** class. The sort method should sort the *items* in ascending order. Use bubble sort or insertion sort algorithm for this task. **(10 Points)**\n",
        "\n",
        "For example,\n",
        "if objSpcList = SpecialList([5, 3, 7, 3, 6, 4, 5, 8, 2, 9, 3, 4, 20, -10]) then after invoking the `sort` method, the `items` attribute will be [-10, 2, 3, 3, 3, 4, 4, 5, 5, 6, 7, 8, 9, 20]\n",
        "    \n",
        "c. Implement a *contains* method as a member of the **SpecialList** class. It should take a parameter x. If x is in the *items*, the *contains* method should return True otherwise False. Use binary search algorithm to implement this method. Remember that binary search works on sorted lists **(10 Points)**\n",
        "\n",
        "For example,\n",
        "if `objSpcList = SpecialList([5, 3, 7, 3, 6, 4, 5, 8, 2, 9, 3, 4, 20, -10])` and the user invoked the the `contains()` method with `8`, then the method will return `True"
      ]
    },
    {
      "cell_type": "code",
      "execution_count": null,
      "metadata": {
        "id": "8cxoJR6GWN1_",
        "colab": {
          "base_uri": "https://localhost:8080/"
        },
        "outputId": "438d61e2-e7f8-4b11-e378-a86e2d3f035c"
      },
      "outputs": [
        {
          "output_type": "stream",
          "name": "stdout",
          "text": [
            "elementes in input list is not str\n",
            "elementes in input list is not str\n",
            "elementes in input list is not str\n",
            "elementes in input list is not str\n",
            "elementes in input list is not str\n",
            "elementes in input list is not str\n",
            "elementes in input list is not str\n",
            "[1, 4, 11, 55, 84, 98]\n",
            "False\n"
          ]
        }
      ],
      "source": [
        "class Specialist:\n",
        "\n",
        "    def __init__(self, items):\n",
        "        self.items = items\n",
        "\n",
        "    def check_item(self):\n",
        "\n",
        "        for i in self.items:\n",
        "            try:\n",
        "                if type(i) != str:\n",
        "                    raise TypeError\n",
        "            except TypeError:\n",
        "                    print(\"elementes in input list is not str\")\n",
        "\n",
        "    def sort_item(self):\n",
        "        for i in range(1, len(self.items)):\n",
        "\n",
        "            key = self.items[i]\n",
        "\n",
        "            j = i - 1\n",
        "            while j >= 0 and key < self.items[j]:\n",
        "                self.items[j + 1] = self.items[j]\n",
        "                j -= 1\n",
        "            self.items[j + 1] = key\n",
        "        return self.items\n",
        "\n",
        "    def binary_search(self, elem):\n",
        "\n",
        "        data = Specialist.sort_item(self)\n",
        "        low = 0\n",
        "        high = len(data) - 1\n",
        "\n",
        "        while low <= high:\n",
        "\n",
        "            middle = (low + high) // 2\n",
        "\n",
        "            if data[middle] == elem:\n",
        "                return True\n",
        "            elif data[middle] > elem:\n",
        "                high = middle - 1\n",
        "            else:\n",
        "                low = middle + 1\n",
        "\n",
        "        return False\n",
        "\n",
        "\n",
        "\"\"\"I create this object for checking elements in item is str or no\n",
        "\"\"\"\n",
        "object1 = Specialist(['sara', 'alex', 'mina'])\n",
        "object1.check_item()\n",
        "\n",
        "\"\"\"I create this object for checking elements in item is str or no\n",
        "\"\"\"\n",
        "object2 = Specialist(['sara', 'alex', 'mina', 7])\n",
        "object2.check_item()\n",
        "\n",
        "sort_item = [55, 84, 4, 11, 98, 1]\n",
        "object3 = Specialist(sort_item)\n",
        "object3.check_item()\n",
        "print(object3.sort_item())\n",
        "print(object3.binary_search(95))"
      ]
    },
    {
      "cell_type": "markdown",
      "metadata": {
        "id": "6DVBg9LrHYCM"
      },
      "source": [
        "*****"
      ]
    },
    {
      "cell_type": "markdown",
      "metadata": {
        "id": "KE-n_dv5TjDV"
      },
      "source": [
        "### Question 2 **[25 pts]**:\n",
        "\n",
        "\n"
      ]
    },
    {
      "cell_type": "markdown",
      "metadata": {
        "id": "3-2iAp_tWN2G"
      },
      "source": [
        "**Infix expression example:** 3+4*5/6 (operators are between numbers)\n",
        "\n",
        "**Infix expression evaluation:** 6.3333\n",
        "\n",
        "**Postfix version of the infix expression:** 345*6/+\n",
        "\n",
        "**Question:**\n",
        "\n",
        "Define a class **InfixExpression**\n",
        "\n",
        "* Assume for this question the infix expression is a list that can only contain numbers (integers or floats), \"+\", \"*\", \"-\", and \"/\"\n",
        "* Remember the precendence rules of operations when writing the functions.\n",
        "\n",
        "**Note.You can use any existing library for stack or queue implementation**\n",
        "\n",
        "a. Users of the class should be able to initialize an object of the *InfixExpression* class with a list containing a *infixexpression*. Name the list as *infix*. **(5 Points)**\n",
        "\n",
        "b. Implement *_check_infix* method as a member of *InfixExpression* class. The method should return True if the given expression is a correctly formatted infix expression else return False. Update the __init__ function to use this function to check if the expression initialized is valid. If not throw an error from the __init__ function **(5 Points)**\n",
        "    \n",
        "c. Implement a *infixtopostfix* method as a member of the *InfixExpression* class. The  method should return the *postfix* form of the *infix* expression.**(7.5 Points)**\n",
        "\n",
        "* **Algorithm to implement**\n",
        "    * Initalize an empty stack for the operators\n",
        "    * Read infix expression list from left to right\n",
        "      * If element is operand (numbers) then print it out\n",
        "      * If element is math operator (call it thisOps)\n",
        "        *  While stack is not empty and the top element on the stack has the same or greater precedence as thisOp\n",
        "          * Pop (and print) from the stack\n",
        "        * Push thisOps onto the stack\n",
        "    * If the entire expression has been consumed then pop (and print) out remaining operators from stack\n",
        "\n",
        "\n",
        "d. Implement *evaluate* method as a member of the *InfixExpression* class. The method should return the evaluated value of the expression. **(7.5 Points)**\n",
        "\n",
        "* **Algorithm to implement**\n",
        " * Initialize two empty stacks: a value stack to hold operands (numbers) and operator stack to hold operators\n",
        " * While there are still elements in infix expression to be read in,\n",
        "   * Get the next element.\n",
        "   * If the element is:\n",
        "      * A number: push it onto the value stack.\n",
        "      * An operator (call it thisOp):\n",
        "        * While the operator stack is not empty, and the top element on the operator stack has the same or greater precedence as thisOp,\n",
        "          * Pop the operator from the operator stack.\n",
        "          * Pop the value stack twice, getting two operands.\n",
        "          * Apply the operator to the operands, in the correct order. (Remember stack is last in first out)\n",
        "          * Push the result onto the value stack.\n",
        "        * Push thisOp onto the operator stack.\n",
        "  * While the operator stack is not empty,\n",
        "    * Pop the operator from the operator stack.\n",
        "    * Pop the value stack twice, getting two operands.\n",
        "    * Apply the operator to the operands, in the correct order.\n",
        "    * Push the result onto the value stack.\n",
        "  * At this point the operator stack should be empty, and the value stack should have only one value in it, which is the final result.\n",
        "\n",
        "\n",
        "**Helper Libraries**\n",
        "* https://docs.python.org/3/library/operator.html\n",
        "* https://docs.python.org/3/library/collections.html#collections.deque\n"
      ]
    },
    {
      "cell_type": "code",
      "execution_count": null,
      "metadata": {
        "id": "DL4KwQtFWN2H",
        "colab": {
          "base_uri": "https://localhost:8080/"
        },
        "outputId": "ab195cae-53bc-409a-b66e-c388de231d6e"
      },
      "outputs": [
        {
          "output_type": "stream",
          "name": "stdout",
          "text": [
            "True\n",
            "2\n",
            "2.8\n"
          ]
        }
      ],
      "source": [
        "class InfixExpression:\n",
        "    def __init__(self, infix):\n",
        "        self.infix = infix\n",
        "        if not self.check_infix():\n",
        "            print('an error eccurred')\n",
        "\n",
        "    true_format = ['*', '/', '+', '-']\n",
        "\n",
        "    def check_infix(self):\n",
        "        flag = True\n",
        "        for i in self.infix:\n",
        "            if type(i) == str:\n",
        "                if i not in InfixExpression.true_format:\n",
        "                    flag = False\n",
        "                    break\n",
        "            elif type(i) == int:\n",
        "                continue\n",
        "            elif type(i) == float:\n",
        "                continue\n",
        "            else:\n",
        "                flag = False\n",
        "        return flag\n",
        "\n",
        "    def infixtopostfix(self):\n",
        "\n",
        "        thisops = []\n",
        "        for i in self.infix:\n",
        "            if type(i) == int or type(i) == float:\n",
        "                print(i)\n",
        "\n",
        "            else:\n",
        "                thisops.append(i)\n",
        "\n",
        "\n",
        "ob1 = InfixExpression(['*', '+', '-', '-', 2, '/', 2.8])\n",
        "print(ob1.check_infix())\n",
        "ob1.infixtopostfix()\n"
      ]
    },
    {
      "cell_type": "markdown",
      "metadata": {
        "id": "K3DogWD5HYCa"
      },
      "source": [
        "*****"
      ]
    },
    {
      "cell_type": "markdown",
      "metadata": {
        "id": "bGC4VjOUPv_H"
      },
      "source": [
        "### Question 3 **[25 pts]**:"
      ]
    },
    {
      "cell_type": "markdown",
      "metadata": {
        "id": "md6f9PsptSkr"
      },
      "source": [
        "NOTE: You can use the `numpy` library to solve this question.\n",
        "* https://pypi.org/project/numpy/\n"
      ]
    },
    {
      "cell_type": "markdown",
      "metadata": {
        "id": "-Rk_1z1ms_aE"
      },
      "source": [
        "**a)** **(7.5 Points)** Create a function that creates and prints a two dimensional 2x2 array (i.e. grid). The elements of the array should all be zeros."
      ]
    },
    {
      "cell_type": "code",
      "execution_count": null,
      "metadata": {
        "colab": {
          "base_uri": "https://localhost:8080/"
        },
        "id": "QUWJ44DFPxYH",
        "outputId": "7834a045-ec70-4ac2-c1b3-db620719cb00"
      },
      "outputs": [
        {
          "output_type": "stream",
          "name": "stdout",
          "text": [
            "output a:\n",
            "[[0, 0], [0, 0]]\n"
          ]
        }
      ],
      "source": [
        "import random\n",
        "\n",
        "#  a\n",
        "def create_function ():\n",
        "    functionarry=[\n",
        "    [0 , 0 ],\n",
        "    [0 , 0 ]\n",
        "    ]\n",
        "    print(functionarry)\n",
        "print('output a:')\n",
        "create_function()\n",
        "\n",
        "\n",
        "\n",
        "# c\n",
        "\n"
      ]
    },
    {
      "cell_type": "markdown",
      "metadata": {
        "id": "COxPGjoNuLQs"
      },
      "source": [
        "**b)** **(7.5 Points)** Replace the elements of the grid with randomly selected numbers from the inclusive interval $[-5, +5]$"
      ]
    },
    {
      "cell_type": "code",
      "execution_count": null,
      "metadata": {
        "colab": {
          "base_uri": "https://localhost:8080/"
        },
        "id": "xrd3RcSatfj_",
        "outputId": "c65adf02-d713-4f5a-8fb8-055aaf9d4b77"
      },
      "outputs": [
        {
          "output_type": "stream",
          "name": "stdout",
          "text": [
            "output b : \n",
            "[-3, 4]\n",
            "[-4, -3]\n"
          ]
        }
      ],
      "source": [
        "# b\n",
        "\n",
        "array = []\n",
        "\n",
        "for row in range(2):\n",
        "    array.append([])\n",
        "    for column in range(2):\n",
        "        array[row].append(random.randint(-5,5))\n",
        "\n",
        "def display(array):\n",
        "    for row in array:\n",
        "        print((row))\n",
        "print('output b : ')\n",
        "display(array)"
      ]
    },
    {
      "cell_type": "markdown",
      "metadata": {
        "id": "RAo-S6ETvg80"
      },
      "source": [
        "**c)** **(10 Points)** Compute the determinant of the grid.\n",
        "For example, if the grid is equal to:\n",
        "\\begin{equation}\n",
        "A = \\begin{bmatrix}\n",
        "    a & b \\\\\n",
        "    c & d\n",
        "  \\end{bmatrix}\n",
        "\\end{equation}\n",
        "\n",
        "\\begin{equation}\n",
        "\\det A = ad - bc\n",
        "\\end{equation}"
      ]
    },
    {
      "cell_type": "code",
      "execution_count": null,
      "metadata": {
        "colab": {
          "base_uri": "https://localhost:8080/"
        },
        "id": "PNASFq1SvgIc",
        "outputId": "daa8d119-b8f2-4ccd-e521-ef7b1fef5ebc"
      },
      "outputs": [
        {
          "output_type": "stream",
          "name": "stdout",
          "text": [
            "Original 2-D matrix\n",
            "[[1 0]\n",
            " [3 6]]\n",
            "output c:\n",
            "6.0\n"
          ]
        }
      ],
      "source": [
        "import numpy as np\n",
        "from numpy import linalg\n",
        "\n",
        "# Creating a 2X2 matrix\n",
        "matrix = np.array([[1, 0], [3, 6]])\n",
        "print(\"Original 2-D matrix\")\n",
        "print(matrix)\n",
        "\n",
        "# Output\n",
        "\n",
        "print(\"output c:\")\n",
        "print( np.linalg.det(matrix))"
      ]
    },
    {
      "cell_type": "markdown",
      "metadata": {
        "nteract": {
          "transient": {
            "deleting": false
          }
        },
        "id": "EEjZbhJiHYCq"
      },
      "source": [
        "*****"
      ]
    },
    {
      "cell_type": "markdown",
      "metadata": {
        "id": "I2Hu89LOP5vR"
      },
      "source": [
        "### Question 4 **[25 pts]**:"
      ]
    },
    {
      "cell_type": "markdown",
      "metadata": {
        "id": "4LgCs5VLTtoQ"
      },
      "source": [
        "**a)** **(10 Points)** Complete the methods of the following `Stack` class according to their description"
      ]
    },
    {
      "cell_type": "code",
      "execution_count": null,
      "metadata": {
        "id": "7E9kdHwhP6h7",
        "colab": {
          "base_uri": "https://localhost:8080/"
        },
        "outputId": "380aa607-7821-4442-a239-d8706152cb73"
      },
      "outputs": [
        {
          "output_type": "stream",
          "name": "stdout",
          "text": [
            "[5, 7, 19, 1, 54, 6, 78, 0, 25, 11]\n",
            "11\n",
            "9\n",
            "False\n",
            "25\n",
            "0\n",
            "[5, 7, 19, 1, 54, 6, 78, 0, 25, 11]\n",
            "11\n",
            "9\n",
            "False\n",
            "25\n",
            "True\n",
            "False\n",
            "False\n"
          ]
        }
      ],
      "source": [
        "class Stack:\n",
        "    def __init__(self, new_stack):\n",
        "        self.elementes = new_stack\n",
        "    elements = []\n",
        "\n",
        "    def push(self, new_item):\n",
        "        self.elementes.append(new_item)\n",
        "        return self.elementes\n",
        "\n",
        "    def pop(self):\n",
        "        return self.elementes.pop()\n",
        "\n",
        "    def size(self):\n",
        "        return len(self.elementes)\n",
        "\n",
        "    def empty(self):\n",
        "        if len(self.elementes) == 0:\n",
        "            return True\n",
        "        else:\n",
        "            return False\n",
        "\n",
        "    def peek(self):\n",
        "        if len(self.elementes) == 0:\n",
        "            return None\n",
        "        else:\n",
        "            return self.elementes[len(self.elementes) - 1]\n",
        "\n",
        "    def brackets_is_correct(self):\n",
        "\n",
        "        open_bracket = []\n",
        "        close_bracket = []\n",
        "        for i in self.elementes:\n",
        "            if i == '(':\n",
        "                open_bracket.append(i)\n",
        "            elif i == ')':\n",
        "                close_bracket.append(i)\n",
        "            else:\n",
        "                continue\n",
        "        if len(open_bracket) == len(close_bracket):\n",
        "            return True\n",
        "        else:\n",
        "            return False\n",
        "\n",
        "\n",
        "\n",
        "\n",
        "class MinStack(Stack):\n",
        "    def __init__(self, new_stack):\n",
        "        Stack.__init__(self, new_stack)\n",
        "\n",
        "    def get_min(self):\n",
        "        return min(self.elementes)\n",
        "\n",
        "\n",
        "list_test = [5, 7, 19, 1, 54, 6, 78, 0, 25]\n",
        "object1 = Stack(list_test)\n",
        "print(object1.push(11))\n",
        "print(object1.pop())\n",
        "print(object1.size())\n",
        "print(object1.empty())\n",
        "print(object1.peek())\n",
        "\n",
        "object2 = MinStack(list_test)\n",
        "print(object2.get_min())\n",
        "print(object2.push(11))\n",
        "print(object2.pop())\n",
        "print(object2.size())\n",
        "print(object2.empty())\n",
        "print(object2.peek())\n",
        "\n",
        "### test section b of questiion 4\n",
        "string_test1_correct_bracket = \"(2+3)+(1-5)\"\n",
        "string_test2_correct_bracket = \"((3*2))*(7/3))\"\n",
        "string_test3_correct_bracket = \"(3*5))\"\n",
        "\n",
        "list1_test_correct_bracket = list(string_test1_correct_bracket)\n",
        "list2_test_correct_bracket = list(string_test2_correct_bracket)\n",
        "list3_test_correct_bracket = list(string_test3_correct_bracket)\n",
        "\n",
        "object3 = Stack(list1_test_correct_bracket)\n",
        "print(object3.brackets_is_correct())\n",
        "\n",
        "object4 = Stack(list2_test_correct_bracket)\n",
        "print(object4.brackets_is_correct())\n",
        "\n",
        "object5 = Stack(list3_test_correct_bracket)\n",
        "print(object5.brackets_is_correct())"
      ]
    },
    {
      "cell_type": "code",
      "execution_count": null,
      "metadata": {
        "id": "4j1ZAMG5Ufwl"
      },
      "outputs": [],
      "source": [
        "#INSERT YOUR ANSWER HERE."
      ]
    },
    {
      "cell_type": "markdown",
      "metadata": {
        "id": "NkBTIzU4Uqp2"
      },
      "source": [
        "Use the Stack class you defined in `Q1a` to solve the following problem."
      ]
    },
    {
      "cell_type": "markdown",
      "metadata": {
        "id": "d1qmlXYGUxrP"
      },
      "source": [
        "**b)** **(7.5 Points)** Write a function to detect whether the order of brackets is correct using stacks. Some examples are given below:"
      ]
    },
    {
      "cell_type": "code",
      "execution_count": null,
      "metadata": {
        "id": "34Xa4qJ6UjQi"
      },
      "outputs": [],
      "source": [
        "exp1 = \"(2+3)+(1-5)\" # True\n",
        "exp2 = \"((3*2))*(7/3))\" # False\n",
        "exp3 = \"(3*5))\" # False"
      ]
    },
    {
      "cell_type": "code",
      "execution_count": null,
      "metadata": {
        "id": "sTfgVFbWUn3p"
      },
      "outputs": [],
      "source": [
        "def is_valid(exp):\n",
        "  \"\"\" Check the orders of the brackets\n",
        "      Returns True or False\n",
        "  \"\"\"\n",
        "  ### CODE HERE ###\n",
        "  return"
      ]
    },
    {
      "cell_type": "code",
      "execution_count": null,
      "metadata": {
        "id": "UfHtD-KzqBLH"
      },
      "outputs": [],
      "source": [
        "##solution for this part is in a section.please check the a section . all parts of codes are in the one section \"a\""
      ]
    },
    {
      "cell_type": "markdown",
      "metadata": {
        "id": "sakPZ8IW6czn"
      },
      "source": [
        "**c)** **(7.5 Points)** Create a MinStack class inherited from the Stack class defined in `Q1a` . The MinStack class has an additional function called get_min() that returns the minimum element in the stack"
      ]
    },
    {
      "cell_type": "code",
      "execution_count": null,
      "metadata": {
        "id": "1zT8BXlkHH0y"
      },
      "outputs": [],
      "source": [
        "#solution for this part is in a section.please check the a section . all parts of codes are in the one section \"a\""
      ]
    },
    {
      "cell_type": "markdown",
      "metadata": {
        "id": "0HrMGrLVHYC8"
      },
      "source": [
        "*****"
      ]
    },
    {
      "cell_type": "markdown",
      "metadata": {
        "id": "dSfTth4yHYC8"
      },
      "source": [
        "#### This is the end of assignment 3"
      ]
    }
  ],
  "metadata": {
    "colab": {
      "provenance": [],
      "include_colab_link": true
    },
    "kernelspec": {
      "display_name": "Python 3",
      "language": "python",
      "name": "python3"
    },
    "language_info": {
      "codemirror_mode": {
        "name": "ipython",
        "version": 3
      },
      "file_extension": ".py",
      "mimetype": "text/x-python",
      "name": "python",
      "nbconvert_exporter": "python",
      "pygments_lexer": "ipython3",
      "version": "3.7.6"
    },
    "nteract": {
      "version": "0.28.0"
    }
  },
  "nbformat": 4,
  "nbformat_minor": 0
}